{
 "cells": [
  {
   "cell_type": "markdown",
   "metadata": {},
   "source": [
    "# Excel Sheet(CSV) to SQL\n",
    "A script that converts a csv file (Excel Sheet) to an SQL file that can be imported into a MySQL database.\n",
    "\n",
    " - Works only with .csv files which confine it to be used only on single sheet Excel Files.\n",
    " - It assumes the `filename` as `table name` and `first row cells` are taken as `column names`\n",
    " - The output filename is same as the input file but with an extension `sql`\n"
   ]
  },
  {
   "cell_type": "code",
   "execution_count": 7,
   "metadata": {},
   "outputs": [],
   "source": [
    "import pandas as pd\n",
    "import os\n",
    "import warnings\n",
    "warnings.filterwarnings(\"ignore\")\n",
    "\n",
    "# Define your input file name and output file name\n",
    "fname = \"Copy.csv\"\n",
    "output_fname = 'tmp.csv'\n",
    "\n",
    "# Remove trailing whitespace and save the result to tmp.csv\n",
    "with open(fname, 'r') as input_file, open(output_fname, 'w') as output_file:\n",
    "    for line in input_file:\n",
    "        cleaned_line = line.rstrip(', \\n') + '\\n'\n",
    "        output_file.write(cleaned_line)\n",
    "\n",
    "# Get the filename without the extension\n",
    "op = fname.split('.')[0]\n",
    "\n",
    "# Create the output SQL file name\n",
    "opfile = f\"{op}.sql\"\n",
    "\n",
    "# Add backticks around the filename\n",
    "op = f'`{op}`'\n",
    "\n",
    "# Get the columns from the first line of tmp.csv\n",
    "with open(output_fname, 'r') as tmp_file:\n",
    "   first_line = tmp_file.readline().strip()\n",
    "   columns = f'`{first_line}`'"
   ]
  },
  {
   "cell_type": "code",
   "execution_count": 8,
   "metadata": {},
   "outputs": [],
   "source": [
    "df = pd.read_csv('tmp.csv')\n",
    "\n",
    "# Apply string operations only to string columns\n",
    "string_columns = df.select_dtypes(include=['object']).columns\n",
    "df[string_columns] = df[string_columns].apply(lambda x: x.str.strip(', \\t'))\n",
    "\n",
    "df_copy = df.copy()\n",
    "\n",
    "for col in df.columns:\n",
    "    if df[col].dtype == 'object':\n",
    "        try:\n",
    "            df_copy[col] = pd.to_datetime(df[col], infer_datetime_format=True, errors='raise')\n",
    "        except ValueError:\n",
    "            pass\n",
    "\n",
    "# Save the cleaned DataFrame back to output_fname\n",
    "df_copy.to_csv(output_fname, index=False)"
   ]
  },
  {
   "cell_type": "code",
   "execution_count": 9,
   "metadata": {},
   "outputs": [],
   "source": [
    "# Generate SQL INSERT statements using Python\n",
    "with open(opfile, 'w') as sql_file:\n",
    "    columns = ','.join([f'`{col}`' for col in df_copy.columns])  # Wrap column names in backticks\n",
    "    sql_file.write(f'INSERT INTO {op}({columns})\\nVALUES\\n')  # Wrap table name in backticks\n",
    "\n",
    "    with open(output_fname, 'r') as csv_file:\n",
    "        next(csv_file)  # Skip the header line\n",
    "        \n",
    "        for line in csv_file:\n",
    "            values = line.strip().split(',')\n",
    "            sql_values = ','.join([f\"'{value}'\" if value != '' else 'NULL' for value in values])\n",
    "            sql_file.write('    ')\n",
    "            sql_line = f'({sql_values}),\\n'\n",
    "            sql_file.write(sql_line)\n",
    "\n",
    "\n",
    "with open(opfile, 'r') as sql_file:\n",
    "    lines = sql_file.readlines()\n",
    "\n",
    "lines[-1] = lines[-1].rstrip(', \\n')  # Remove trailing comma from the last line\n",
    "\n",
    "with open(opfile, 'w') as sql_file:\n",
    "    sql_file.writelines(lines)\n",
    "\n",
    "# Add a semicolon at the end\n",
    "with open(opfile, 'a') as sql_file:\n",
    "    sql_file.write(';\\n')"
   ]
  },
  {
   "cell_type": "code",
   "execution_count": 10,
   "metadata": {},
   "outputs": [],
   "source": [
    "# Clean up temporary file\n",
    "os.remove(output_fname)"
   ]
  }
 ],
 "metadata": {
  "kernelspec": {
   "display_name": "TJQ",
   "language": "python",
   "name": "python3"
  },
  "language_info": {
   "codemirror_mode": {
    "name": "ipython",
    "version": 3
   },
   "file_extension": ".py",
   "mimetype": "text/x-python",
   "name": "python",
   "nbconvert_exporter": "python",
   "pygments_lexer": "ipython3",
   "version": "3.8.18"
  }
 },
 "nbformat": 4,
 "nbformat_minor": 2
}
